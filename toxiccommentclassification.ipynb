{
 "cells": [
  {
   "cell_type": "markdown",
   "id": "4d13ca4f",
   "metadata": {
    "papermill": {
     "duration": 0.009781,
     "end_time": "2022-11-28T13:11:07.045833",
     "exception": false,
     "start_time": "2022-11-28T13:11:07.036052",
     "status": "completed"
    },
    "tags": []
   },
   "source": [
    "# Toxic Comment Classification\n"
   ]
  },
  {
   "cell_type": "code",
   "execution_count": 1,
   "id": "bdbe9d63",
   "metadata": {
    "execution": {
     "iopub.execute_input": "2022-11-28T13:11:07.065192Z",
     "iopub.status.busy": "2022-11-28T13:11:07.064681Z",
     "iopub.status.idle": "2022-11-28T13:11:33.938693Z",
     "shell.execute_reply": "2022-11-28T13:11:33.937535Z"
    },
    "papermill": {
     "duration": 26.887065,
     "end_time": "2022-11-28T13:11:33.941818",
     "exception": false,
     "start_time": "2022-11-28T13:11:07.054753",
     "status": "completed"
    },
    "tags": []
   },
   "outputs": [
    {
     "name": "stderr",
     "output_type": "stream",
     "text": [
      "[nltk_data] Downloading collection 'all'\n",
      "[nltk_data]    | \n",
      "[nltk_data]    | Downloading package abc to /usr/share/nltk_data...\n",
      "[nltk_data]    |   Package abc is already up-to-date!\n",
      "[nltk_data]    | Downloading package alpino to /usr/share/nltk_data...\n",
      "[nltk_data]    |   Package alpino is already up-to-date!\n",
      "[nltk_data]    | Downloading package averaged_perceptron_tagger to\n",
      "[nltk_data]    |     /usr/share/nltk_data...\n",
      "[nltk_data]    |   Package averaged_perceptron_tagger is already up-\n",
      "[nltk_data]    |       to-date!\n",
      "[nltk_data]    | Downloading package averaged_perceptron_tagger_ru to\n",
      "[nltk_data]    |     /usr/share/nltk_data...\n",
      "[nltk_data]    |   Unzipping\n",
      "[nltk_data]    |       taggers/averaged_perceptron_tagger_ru.zip.\n",
      "[nltk_data]    | Downloading package basque_grammars to\n",
      "[nltk_data]    |     /usr/share/nltk_data...\n",
      "[nltk_data]    |   Package basque_grammars is already up-to-date!\n",
      "[nltk_data]    | Downloading package biocreative_ppi to\n",
      "[nltk_data]    |     /usr/share/nltk_data...\n",
      "[nltk_data]    |   Package biocreative_ppi is already up-to-date!\n",
      "[nltk_data]    | Downloading package bllip_wsj_no_aux to\n",
      "[nltk_data]    |     /usr/share/nltk_data...\n",
      "[nltk_data]    |   Package bllip_wsj_no_aux is already up-to-date!\n",
      "[nltk_data]    | Downloading package book_grammars to\n",
      "[nltk_data]    |     /usr/share/nltk_data...\n",
      "[nltk_data]    |   Package book_grammars is already up-to-date!\n",
      "[nltk_data]    | Downloading package brown to /usr/share/nltk_data...\n",
      "[nltk_data]    |   Package brown is already up-to-date!\n",
      "[nltk_data]    | Downloading package brown_tei to\n",
      "[nltk_data]    |     /usr/share/nltk_data...\n",
      "[nltk_data]    |   Package brown_tei is already up-to-date!\n",
      "[nltk_data]    | Downloading package cess_cat to\n",
      "[nltk_data]    |     /usr/share/nltk_data...\n",
      "[nltk_data]    |   Package cess_cat is already up-to-date!\n",
      "[nltk_data]    | Downloading package cess_esp to\n",
      "[nltk_data]    |     /usr/share/nltk_data...\n",
      "[nltk_data]    |   Package cess_esp is already up-to-date!\n",
      "[nltk_data]    | Downloading package chat80 to /usr/share/nltk_data...\n",
      "[nltk_data]    |   Package chat80 is already up-to-date!\n",
      "[nltk_data]    | Downloading package city_database to\n",
      "[nltk_data]    |     /usr/share/nltk_data...\n",
      "[nltk_data]    |   Package city_database is already up-to-date!\n",
      "[nltk_data]    | Downloading package cmudict to\n",
      "[nltk_data]    |     /usr/share/nltk_data...\n",
      "[nltk_data]    |   Package cmudict is already up-to-date!\n",
      "[nltk_data]    | Downloading package comparative_sentences to\n",
      "[nltk_data]    |     /usr/share/nltk_data...\n",
      "[nltk_data]    |   Unzipping corpora/comparative_sentences.zip.\n",
      "[nltk_data]    | Downloading package comtrans to\n",
      "[nltk_data]    |     /usr/share/nltk_data...\n",
      "[nltk_data]    |   Package comtrans is already up-to-date!\n",
      "[nltk_data]    | Downloading package conll2000 to\n",
      "[nltk_data]    |     /usr/share/nltk_data...\n",
      "[nltk_data]    |   Package conll2000 is already up-to-date!\n",
      "[nltk_data]    | Downloading package conll2002 to\n",
      "[nltk_data]    |     /usr/share/nltk_data...\n",
      "[nltk_data]    |   Package conll2002 is already up-to-date!\n",
      "[nltk_data]    | Downloading package conll2007 to\n",
      "[nltk_data]    |     /usr/share/nltk_data...\n",
      "[nltk_data]    |   Package conll2007 is already up-to-date!\n",
      "[nltk_data]    | Downloading package crubadan to\n",
      "[nltk_data]    |     /usr/share/nltk_data...\n",
      "[nltk_data]    |   Package crubadan is already up-to-date!\n",
      "[nltk_data]    | Downloading package dependency_treebank to\n",
      "[nltk_data]    |     /usr/share/nltk_data...\n",
      "[nltk_data]    |   Package dependency_treebank is already up-to-date!\n",
      "[nltk_data]    | Downloading package dolch to /usr/share/nltk_data...\n",
      "[nltk_data]    |   Unzipping corpora/dolch.zip.\n",
      "[nltk_data]    | Downloading package europarl_raw to\n",
      "[nltk_data]    |     /usr/share/nltk_data...\n",
      "[nltk_data]    |   Package europarl_raw is already up-to-date!\n",
      "[nltk_data]    | Downloading package extended_omw to\n",
      "[nltk_data]    |     /usr/share/nltk_data...\n",
      "[nltk_data]    | Downloading package floresta to\n",
      "[nltk_data]    |     /usr/share/nltk_data...\n",
      "[nltk_data]    |   Package floresta is already up-to-date!\n",
      "[nltk_data]    | Downloading package framenet_v15 to\n",
      "[nltk_data]    |     /usr/share/nltk_data...\n",
      "[nltk_data]    |   Unzipping corpora/framenet_v15.zip.\n",
      "[nltk_data]    | Downloading package framenet_v17 to\n",
      "[nltk_data]    |     /usr/share/nltk_data...\n",
      "[nltk_data]    |   Unzipping corpora/framenet_v17.zip.\n",
      "[nltk_data]    | Downloading package gazetteers to\n",
      "[nltk_data]    |     /usr/share/nltk_data...\n",
      "[nltk_data]    |   Package gazetteers is already up-to-date!\n",
      "[nltk_data]    | Downloading package genesis to\n",
      "[nltk_data]    |     /usr/share/nltk_data...\n",
      "[nltk_data]    |   Package genesis is already up-to-date!\n",
      "[nltk_data]    | Downloading package gutenberg to\n",
      "[nltk_data]    |     /usr/share/nltk_data...\n",
      "[nltk_data]    |   Package gutenberg is already up-to-date!\n",
      "[nltk_data]    | Downloading package ieer to /usr/share/nltk_data...\n",
      "[nltk_data]    |   Package ieer is already up-to-date!\n",
      "[nltk_data]    | Downloading package inaugural to\n",
      "[nltk_data]    |     /usr/share/nltk_data...\n",
      "[nltk_data]    |   Package inaugural is already up-to-date!\n",
      "[nltk_data]    | Downloading package indian to /usr/share/nltk_data...\n",
      "[nltk_data]    |   Package indian is already up-to-date!\n",
      "[nltk_data]    | Downloading package jeita to /usr/share/nltk_data...\n",
      "[nltk_data]    |   Package jeita is already up-to-date!\n",
      "[nltk_data]    | Downloading package kimmo to /usr/share/nltk_data...\n",
      "[nltk_data]    |   Package kimmo is already up-to-date!\n",
      "[nltk_data]    | Downloading package knbc to /usr/share/nltk_data...\n",
      "[nltk_data]    |   Package knbc is already up-to-date!\n",
      "[nltk_data]    | Downloading package large_grammars to\n",
      "[nltk_data]    |     /usr/share/nltk_data...\n",
      "[nltk_data]    |   Package large_grammars is already up-to-date!\n",
      "[nltk_data]    | Downloading package lin_thesaurus to\n",
      "[nltk_data]    |     /usr/share/nltk_data...\n",
      "[nltk_data]    |   Package lin_thesaurus is already up-to-date!\n",
      "[nltk_data]    | Downloading package mac_morpho to\n",
      "[nltk_data]    |     /usr/share/nltk_data...\n",
      "[nltk_data]    |   Package mac_morpho is already up-to-date!\n",
      "[nltk_data]    | Downloading package machado to\n",
      "[nltk_data]    |     /usr/share/nltk_data...\n",
      "[nltk_data]    |   Package machado is already up-to-date!\n",
      "[nltk_data]    | Downloading package masc_tagged to\n",
      "[nltk_data]    |     /usr/share/nltk_data...\n",
      "[nltk_data]    |   Package masc_tagged is already up-to-date!\n",
      "[nltk_data]    | Downloading package maxent_ne_chunker to\n",
      "[nltk_data]    |     /usr/share/nltk_data...\n",
      "[nltk_data]    |   Package maxent_ne_chunker is already up-to-date!\n",
      "[nltk_data]    | Downloading package maxent_treebank_pos_tagger to\n",
      "[nltk_data]    |     /usr/share/nltk_data...\n",
      "[nltk_data]    |   Package maxent_treebank_pos_tagger is already up-\n",
      "[nltk_data]    |       to-date!\n",
      "[nltk_data]    | Downloading package moses_sample to\n",
      "[nltk_data]    |     /usr/share/nltk_data...\n",
      "[nltk_data]    |   Package moses_sample is already up-to-date!\n",
      "[nltk_data]    | Downloading package movie_reviews to\n",
      "[nltk_data]    |     /usr/share/nltk_data...\n",
      "[nltk_data]    |   Package movie_reviews is already up-to-date!\n",
      "[nltk_data]    | Downloading package mte_teip5 to\n",
      "[nltk_data]    |     /usr/share/nltk_data...\n",
      "[nltk_data]    |   Package mte_teip5 is already up-to-date!\n",
      "[nltk_data]    | Downloading package mwa_ppdb to\n",
      "[nltk_data]    |     /usr/share/nltk_data...\n",
      "[nltk_data]    |   Unzipping misc/mwa_ppdb.zip.\n",
      "[nltk_data]    | Downloading package names to /usr/share/nltk_data...\n",
      "[nltk_data]    |   Package names is already up-to-date!\n",
      "[nltk_data]    | Downloading package nombank.1.0 to\n",
      "[nltk_data]    |     /usr/share/nltk_data...\n",
      "[nltk_data]    | Downloading package nonbreaking_prefixes to\n",
      "[nltk_data]    |     /usr/share/nltk_data...\n",
      "[nltk_data]    |   Unzipping corpora/nonbreaking_prefixes.zip.\n",
      "[nltk_data]    | Downloading package nps_chat to\n",
      "[nltk_data]    |     /usr/share/nltk_data...\n",
      "[nltk_data]    |   Package nps_chat is already up-to-date!\n",
      "[nltk_data]    | Downloading package omw to /usr/share/nltk_data...\n",
      "[nltk_data]    |   Package omw is already up-to-date!\n",
      "[nltk_data]    | Downloading package omw-1.4 to\n",
      "[nltk_data]    |     /usr/share/nltk_data...\n",
      "[nltk_data]    | Downloading package opinion_lexicon to\n",
      "[nltk_data]    |     /usr/share/nltk_data...\n",
      "[nltk_data]    |   Package opinion_lexicon is already up-to-date!\n",
      "[nltk_data]    | Downloading package panlex_swadesh to\n",
      "[nltk_data]    |     /usr/share/nltk_data...\n",
      "[nltk_data]    | Downloading package paradigms to\n",
      "[nltk_data]    |     /usr/share/nltk_data...\n",
      "[nltk_data]    |   Package paradigms is already up-to-date!\n",
      "[nltk_data]    | Downloading package pe08 to /usr/share/nltk_data...\n",
      "[nltk_data]    |   Unzipping corpora/pe08.zip.\n",
      "[nltk_data]    | Downloading package perluniprops to\n",
      "[nltk_data]    |     /usr/share/nltk_data...\n",
      "[nltk_data]    |   Unzipping misc/perluniprops.zip.\n",
      "[nltk_data]    | Downloading package pil to /usr/share/nltk_data...\n",
      "[nltk_data]    |   Package pil is already up-to-date!\n",
      "[nltk_data]    | Downloading package pl196x to /usr/share/nltk_data...\n",
      "[nltk_data]    |   Package pl196x is already up-to-date!\n",
      "[nltk_data]    | Downloading package porter_test to\n",
      "[nltk_data]    |     /usr/share/nltk_data...\n",
      "[nltk_data]    |   Package porter_test is already up-to-date!\n",
      "[nltk_data]    | Downloading package ppattach to\n",
      "[nltk_data]    |     /usr/share/nltk_data...\n",
      "[nltk_data]    |   Package ppattach is already up-to-date!\n",
      "[nltk_data]    | Downloading package problem_reports to\n",
      "[nltk_data]    |     /usr/share/nltk_data...\n",
      "[nltk_data]    |   Package problem_reports is already up-to-date!\n",
      "[nltk_data]    | Downloading package product_reviews_1 to\n",
      "[nltk_data]    |     /usr/share/nltk_data...\n",
      "[nltk_data]    |   Package product_reviews_1 is already up-to-date!\n",
      "[nltk_data]    | Downloading package product_reviews_2 to\n",
      "[nltk_data]    |     /usr/share/nltk_data...\n",
      "[nltk_data]    |   Package product_reviews_2 is already up-to-date!\n",
      "[nltk_data]    | Downloading package propbank to\n",
      "[nltk_data]    |     /usr/share/nltk_data...\n",
      "[nltk_data]    |   Package propbank is already up-to-date!\n",
      "[nltk_data]    | Downloading package pros_cons to\n",
      "[nltk_data]    |     /usr/share/nltk_data...\n",
      "[nltk_data]    |   Package pros_cons is already up-to-date!\n",
      "[nltk_data]    | Downloading package ptb to /usr/share/nltk_data...\n",
      "[nltk_data]    |   Package ptb is already up-to-date!\n",
      "[nltk_data]    | Downloading package punkt to /usr/share/nltk_data...\n",
      "[nltk_data]    |   Package punkt is already up-to-date!\n",
      "[nltk_data]    | Downloading package qc to /usr/share/nltk_data...\n",
      "[nltk_data]    |   Package qc is already up-to-date!\n",
      "[nltk_data]    | Downloading package reuters to\n",
      "[nltk_data]    |     /usr/share/nltk_data...\n",
      "[nltk_data]    |   Package reuters is already up-to-date!\n",
      "[nltk_data]    | Downloading package rslp to /usr/share/nltk_data...\n",
      "[nltk_data]    |   Package rslp is already up-to-date!\n",
      "[nltk_data]    | Downloading package rte to /usr/share/nltk_data...\n",
      "[nltk_data]    |   Package rte is already up-to-date!\n",
      "[nltk_data]    | Downloading package sample_grammars to\n",
      "[nltk_data]    |     /usr/share/nltk_data...\n",
      "[nltk_data]    |   Package sample_grammars is already up-to-date!\n",
      "[nltk_data]    | Downloading package semcor to /usr/share/nltk_data...\n",
      "[nltk_data]    |   Package semcor is already up-to-date!\n",
      "[nltk_data]    | Downloading package senseval to\n",
      "[nltk_data]    |     /usr/share/nltk_data...\n",
      "[nltk_data]    |   Package senseval is already up-to-date!\n",
      "[nltk_data]    | Downloading package sentence_polarity to\n",
      "[nltk_data]    |     /usr/share/nltk_data...\n",
      "[nltk_data]    |   Package sentence_polarity is already up-to-date!\n",
      "[nltk_data]    | Downloading package sentiwordnet to\n",
      "[nltk_data]    |     /usr/share/nltk_data...\n",
      "[nltk_data]    |   Package sentiwordnet is already up-to-date!\n",
      "[nltk_data]    | Downloading package shakespeare to\n",
      "[nltk_data]    |     /usr/share/nltk_data...\n",
      "[nltk_data]    |   Package shakespeare is already up-to-date!\n",
      "[nltk_data]    | Downloading package sinica_treebank to\n",
      "[nltk_data]    |     /usr/share/nltk_data...\n",
      "[nltk_data]    |   Package sinica_treebank is already up-to-date!\n",
      "[nltk_data]    | Downloading package smultron to\n",
      "[nltk_data]    |     /usr/share/nltk_data...\n",
      "[nltk_data]    |   Package smultron is already up-to-date!\n",
      "[nltk_data]    | Downloading package snowball_data to\n",
      "[nltk_data]    |     /usr/share/nltk_data...\n",
      "[nltk_data]    |   Package snowball_data is already up-to-date!\n",
      "[nltk_data]    | Downloading package spanish_grammars to\n",
      "[nltk_data]    |     /usr/share/nltk_data...\n",
      "[nltk_data]    |   Package spanish_grammars is already up-to-date!\n",
      "[nltk_data]    | Downloading package state_union to\n",
      "[nltk_data]    |     /usr/share/nltk_data...\n",
      "[nltk_data]    |   Package state_union is already up-to-date!\n",
      "[nltk_data]    | Downloading package stopwords to\n",
      "[nltk_data]    |     /usr/share/nltk_data...\n",
      "[nltk_data]    |   Package stopwords is already up-to-date!\n",
      "[nltk_data]    | Downloading package subjectivity to\n",
      "[nltk_data]    |     /usr/share/nltk_data...\n",
      "[nltk_data]    |   Package subjectivity is already up-to-date!\n",
      "[nltk_data]    | Downloading package swadesh to\n",
      "[nltk_data]    |     /usr/share/nltk_data...\n",
      "[nltk_data]    |   Package swadesh is already up-to-date!\n",
      "[nltk_data]    | Downloading package switchboard to\n",
      "[nltk_data]    |     /usr/share/nltk_data...\n",
      "[nltk_data]    |   Package switchboard is already up-to-date!\n",
      "[nltk_data]    | Downloading package tagsets to\n",
      "[nltk_data]    |     /usr/share/nltk_data...\n",
      "[nltk_data]    |   Package tagsets is already up-to-date!\n",
      "[nltk_data]    | Downloading package timit to /usr/share/nltk_data...\n",
      "[nltk_data]    |   Package timit is already up-to-date!\n",
      "[nltk_data]    | Downloading package toolbox to\n",
      "[nltk_data]    |     /usr/share/nltk_data...\n",
      "[nltk_data]    |   Package toolbox is already up-to-date!\n",
      "[nltk_data]    | Downloading package treebank to\n",
      "[nltk_data]    |     /usr/share/nltk_data...\n",
      "[nltk_data]    |   Package treebank is already up-to-date!\n",
      "[nltk_data]    | Downloading package twitter_samples to\n",
      "[nltk_data]    |     /usr/share/nltk_data...\n",
      "[nltk_data]    |   Package twitter_samples is already up-to-date!\n",
      "[nltk_data]    | Downloading package udhr to /usr/share/nltk_data...\n",
      "[nltk_data]    |   Package udhr is already up-to-date!\n",
      "[nltk_data]    | Downloading package udhr2 to /usr/share/nltk_data...\n",
      "[nltk_data]    |   Package udhr2 is already up-to-date!\n",
      "[nltk_data]    | Downloading package unicode_samples to\n",
      "[nltk_data]    |     /usr/share/nltk_data...\n",
      "[nltk_data]    |   Package unicode_samples is already up-to-date!\n",
      "[nltk_data]    | Downloading package universal_tagset to\n",
      "[nltk_data]    |     /usr/share/nltk_data...\n",
      "[nltk_data]    |   Package universal_tagset is already up-to-date!\n",
      "[nltk_data]    | Downloading package universal_treebanks_v20 to\n",
      "[nltk_data]    |     /usr/share/nltk_data...\n",
      "[nltk_data]    |   Package universal_treebanks_v20 is already up-to-\n",
      "[nltk_data]    |       date!\n",
      "[nltk_data]    | Downloading package vader_lexicon to\n",
      "[nltk_data]    |     /usr/share/nltk_data...\n",
      "[nltk_data]    |   Package vader_lexicon is already up-to-date!\n",
      "[nltk_data]    | Downloading package verbnet to\n",
      "[nltk_data]    |     /usr/share/nltk_data...\n",
      "[nltk_data]    |   Package verbnet is already up-to-date!\n",
      "[nltk_data]    | Downloading package verbnet3 to\n",
      "[nltk_data]    |     /usr/share/nltk_data...\n",
      "[nltk_data]    |   Unzipping corpora/verbnet3.zip.\n",
      "[nltk_data]    | Downloading package webtext to\n",
      "[nltk_data]    |     /usr/share/nltk_data...\n",
      "[nltk_data]    |   Package webtext is already up-to-date!\n",
      "[nltk_data]    | Downloading package wmt15_eval to\n",
      "[nltk_data]    |     /usr/share/nltk_data...\n",
      "[nltk_data]    |   Unzipping models/wmt15_eval.zip.\n",
      "[nltk_data]    | Downloading package word2vec_sample to\n",
      "[nltk_data]    |     /usr/share/nltk_data...\n",
      "[nltk_data]    |   Package word2vec_sample is already up-to-date!\n",
      "[nltk_data]    | Downloading package wordnet to\n",
      "[nltk_data]    |     /usr/share/nltk_data...\n",
      "[nltk_data]    |   Package wordnet is already up-to-date!\n",
      "[nltk_data]    | Downloading package wordnet2021 to\n",
      "[nltk_data]    |     /usr/share/nltk_data...\n",
      "[nltk_data]    | Downloading package wordnet31 to\n",
      "[nltk_data]    |     /usr/share/nltk_data...\n",
      "[nltk_data]    | Downloading package wordnet_ic to\n",
      "[nltk_data]    |     /usr/share/nltk_data...\n",
      "[nltk_data]    |   Package wordnet_ic is already up-to-date!\n",
      "[nltk_data]    | Downloading package words to /usr/share/nltk_data...\n",
      "[nltk_data]    |   Package words is already up-to-date!\n",
      "[nltk_data]    | Downloading package ycoe to /usr/share/nltk_data...\n",
      "[nltk_data]    |   Package ycoe is already up-to-date!\n",
      "[nltk_data]    | \n",
      "[nltk_data]  Done downloading collection all\n"
     ]
    }
   ],
   "source": [
    "import numpy as np\n",
    "import pandas as pd\n",
    "import seaborn as sns\n",
    "import matplotlib.pyplot as plt\n",
    "import string\n",
    "import os\n",
    "import sys\n",
    "import re\n",
    "from nltk.corpus import wordnet\n",
    "import nltk\n",
    "nltk.download('all')\n",
    "from nltk.stem import WordNetLemmatizer\n",
    "from nltk.corpus import stopwords\n",
    "from nltk.tokenize import TweetTokenizer\n",
    "from keras.callbacks import EarlyStopping, ModelCheckpoint\n",
    "from keras.layers import Layer\n",
    "from keras.preprocessing.text import Tokenizer\n",
    "from keras.preprocessing.sequence import pad_sequences\n",
    "from keras.layers import Dense, concatenate, Embedding, LSTM, Dropout, Input, Activation, RNN, Embedding, GRU\n",
    "from keras.layers import Bidirectional, GlobalMaxPooling1D, GlobalAveragePooling1D\n",
    "from keras.models import Model\n",
    "from keras import initializers, regularizers, constraints, optimizers, layers"
   ]
  },
  {
   "cell_type": "markdown",
   "id": "64c346a1",
   "metadata": {
    "papermill": {
     "duration": 0.009895,
     "end_time": "2022-11-28T13:11:33.962911",
     "exception": false,
     "start_time": "2022-11-28T13:11:33.953016",
     "status": "completed"
    },
    "tags": []
   },
   "source": [
    "# Cleaning Utilities"
   ]
  },
  {
   "cell_type": "code",
   "execution_count": 2,
   "id": "5e8895d7",
   "metadata": {
    "_cell_guid": "b1076dfc-b9ad-4769-8c92-a6c4dae69d19",
    "_uuid": "8f2839f25d086af736a60e9eeb907d3b93b6e0e5",
    "execution": {
     "iopub.execute_input": "2022-11-28T13:11:33.986787Z",
     "iopub.status.busy": "2022-11-28T13:11:33.985555Z",
     "iopub.status.idle": "2022-11-28T13:11:33.993782Z",
     "shell.execute_reply": "2022-11-28T13:11:33.992876Z"
    },
    "papermill": {
     "duration": 0.021462,
     "end_time": "2022-11-28T13:11:33.995905",
     "exception": false,
     "start_time": "2022-11-28T13:11:33.974443",
     "status": "completed"
    },
    "tags": []
   },
   "outputs": [],
   "source": [
    "# set of stop_words in english grammar\n",
    "stop_words=set(stopwords.words('english'))\n",
    "# lemmatize the words to their root/ synonym word which has meaning\n",
    "lemmatizer=nltk.stem.WordNetLemmatizer()\n",
    "tokenizer=TweetTokenizer()"
   ]
  },
  {
   "cell_type": "markdown",
   "id": "9ad7a689",
   "metadata": {
    "papermill": {
     "duration": 0.0094,
     "end_time": "2022-11-28T13:11:34.015593",
     "exception": false,
     "start_time": "2022-11-28T13:11:34.006193",
     "status": "completed"
    },
    "tags": []
   },
   "source": [
    "# Removing Short-Hand Words"
   ]
  },
  {
   "cell_type": "code",
   "execution_count": 3,
   "id": "6938ff9b",
   "metadata": {
    "execution": {
     "iopub.execute_input": "2022-11-28T13:11:34.037375Z",
     "iopub.status.busy": "2022-11-28T13:11:34.036429Z",
     "iopub.status.idle": "2022-11-28T13:11:34.049635Z",
     "shell.execute_reply": "2022-11-28T13:11:34.048730Z"
    },
    "papermill": {
     "duration": 0.026329,
     "end_time": "2022-11-28T13:11:34.051668",
     "exception": false,
     "start_time": "2022-11-28T13:11:34.025339",
     "status": "completed"
    },
    "tags": []
   },
   "outputs": [],
   "source": [
    "# Convert Most Commonly Used Short-Hand phrases\n",
    "short_hands = {\n",
    "\"ain't\": \"is not\",\n",
    "\"aren't\": \"are not\",\n",
    "\"can't\": \"cannot\",\n",
    "\"can't've\": \"cannot have\",\n",
    "\"'cause\": \"because\",\n",
    "\"could've\": \"could have\",\n",
    "\"couldn't\": \"could not\",\n",
    "\"couldn't've\": \"could not have\",\n",
    "\"didn't\": \"did not\",\n",
    "\"doesn't\": \"does not\",\n",
    "\"don't\": \"do not\",\n",
    "\"hadn't\": \"had not\",\n",
    "\"hadn't've\": \"had not have\",\n",
    "\"hasn't\": \"has not\",\n",
    "\"haven't\": \"have not\",\n",
    "\"he'd\": \"he would\",\n",
    "\"he'd've\": \"he would have\",\n",
    "\"he'll\": \"he will\",\n",
    "\"he'll've\": \"he he will have\",\n",
    "\"he's\": \"he is\",\n",
    "\"how'd\": \"how did\",\n",
    "\"how'd'y\": \"how do you\",\n",
    "\"how'll\": \"how will\",\n",
    "\"how's\": \"how is\",\n",
    "\"i'd\": \"i would\",\n",
    "\"i'd've\": \"i would have\",\n",
    "\"i'll\": \"i will\",\n",
    "\"i'll've\": \"i will have\",\n",
    "\"i'm\": \"i am\",\n",
    "\"i've\": \"i have\",\n",
    "\"isn't\": \"is not\",\n",
    "\"it'd\": \"it would\",\n",
    "\"it'd've\": \"it would have\",\n",
    "\"it'll\": \"it will\",\n",
    "\"it'll've\": \"it will have\",\n",
    "\"it's\": \"it is\",\n",
    "\"let's\": \"let us\",\n",
    "\"ma'am\": \"madam\",\n",
    "\"mayn't\": \"may not\",\n",
    "\"might've\": \"might have\",\n",
    "\"mightn't\": \"might not\",\n",
    "\"mightn't've\": \"might not have\",\n",
    "\"must've\": \"must have\",\n",
    "\"mustn't\": \"must not\",\n",
    "\"mustn't've\": \"must not have\",\n",
    "\"needn't\": \"need not\",\n",
    "\"needn't've\": \"need not have\",\n",
    "\"o'clock\": \"of the clock\",\n",
    "\"oughtn't\": \"ought not\",\n",
    "\"oughtn't've\": \"ought not have\",\n",
    "\"shan't\": \"shall not\",\n",
    "\"sha'n't\": \"shall not\",\n",
    "\"shan't've\": \"shall not have\",\n",
    "\"she'd\": \"she would\",\n",
    "\"she'd've\": \"she would have\",\n",
    "\"she'll\": \"she will\",\n",
    "\"she'll've\": \"she will have\",\n",
    "\"she's\": \"she is\",\n",
    "\"should've\": \"should have\",\n",
    "\"shouldn't\": \"should not\",\n",
    "\"shouldn't've\": \"should not have\",\n",
    "\"so've\": \"so have\",\n",
    "\"so's\": \"so as\",\n",
    "\"that'd\": \"that would\",\n",
    "\"that'd've\": \"that would have\",\n",
    "\"that's\": \"that is\",\n",
    "\"there'd\": \"there would\",\n",
    "\"there'd've\": \"there would have\",\n",
    "\"there's\": \"there is\",\n",
    "\"they'd\": \"they would\",\n",
    "\"they'd've\": \"they would have\",\n",
    "\"they'll\": \"they will\",\n",
    "\"they'll've\": \"they will have\",\n",
    "\"they're\": \"they are\",\n",
    "\"they've\": \"they have\",\n",
    "\"to've\": \"to have\",\n",
    "\"wasn't\": \"was not\",\n",
    "\"we'd\": \"we would\",\n",
    "\"we'd've\": \"we would have\",\n",
    "\"we'll\": \"we will\",\n",
    "\"we'll've\": \"we will have\",\n",
    "\"we're\": \"we are\",\n",
    "\"we've\": \"we have\",\n",
    "\"weren't\": \"were not\",\n",
    "\"what'll\": \"what will\",\n",
    "\"what'll've\": \"what will have\",\n",
    "\"what're\": \"what are\",\n",
    "\"what's\": \"what is\",\n",
    "\"what've\": \"what have\",\n",
    "\"when's\": \"when is\",\n",
    "\"when've\": \"when have\",\n",
    "\"where'd\": \"where did\",\n",
    "\"where's\": \"where is\",\n",
    "\"where've\": \"where have\",\n",
    "\"who'll\": \"who will\",\n",
    "\"who'll've\": \"who will have\",\n",
    "\"who's\": \"who is\",\n",
    "\"who've\": \"who have\",\n",
    "\"why's\": \"why is\",\n",
    "\"why've\": \"why have\",\n",
    "\"will've\": \"will have\",\n",
    "\"won't\": \"will not\",\n",
    "\"won't've\": \"will not have\",\n",
    "\"would've\": \"would have\",\n",
    "\"wouldn't\": \"would not\",\n",
    "\"wouldn't've\": \"would not have\",\n",
    "\"y'all\": \"you all\",\n",
    "\"y'all'd\": \"you all would\",\n",
    "\"y'all'd've\": \"you all would have\",\n",
    "\"y'all're\": \"you all are\",\n",
    "\"y'all've\": \"you all have\",\n",
    "\"you'd\": \"you would\",\n",
    "\"you'd've\": \"you would have\",\n",
    "\"you'll\": \"you will\",\n",
    "\"you'll've\": \"you will have\",\n",
    "\"you're\": \"you are\",\n",
    "\"you've\": \"you have\",\n",
    "}"
   ]
  },
  {
   "cell_type": "markdown",
   "id": "bf681d64",
   "metadata": {
    "papermill": {
     "duration": 0.009432,
     "end_time": "2022-11-28T13:11:34.070681",
     "exception": false,
     "start_time": "2022-11-28T13:11:34.061249",
     "status": "completed"
    },
    "tags": []
   },
   "source": [
    "# Utility Function To Clean Comments"
   ]
  },
  {
   "cell_type": "code",
   "execution_count": 4,
   "id": "44642473",
   "metadata": {
    "execution": {
     "iopub.execute_input": "2022-11-28T13:11:34.090855Z",
     "iopub.status.busy": "2022-11-28T13:11:34.090597Z",
     "iopub.status.idle": "2022-11-28T13:11:34.101014Z",
     "shell.execute_reply": "2022-11-28T13:11:34.100097Z"
    },
    "papermill": {
     "duration": 0.022845,
     "end_time": "2022-11-28T13:11:34.103061",
     "exception": false,
     "start_time": "2022-11-28T13:11:34.080216",
     "status": "completed"
    },
    "tags": []
   },
   "outputs": [],
   "source": [
    "def clean_comment(comment):\n",
    "     \n",
    "    #removing \\n,\\\\n,\\t,\\\\ characters with space\n",
    "    comment=comment.replace('\\\\n', ' ').replace('\\n', ' ').replace('\\t',' ').replace('\\\\', ' ').replace('. com', '.com')\n",
    "    comment=re.sub('\\d{1,3}\\.\\d{1,3}\\.\\d{1,3}\\.\\d{1,3}', ' ', comment)\n",
    "     \n",
    "    #remove @usernames, @ip_address, @id_numbers\n",
    "    comment=re.sub('\\[\\[.*\\]', ' ', comment)\n",
    "    \n",
    "    # remove non-alphabetical characters\n",
    "    comment=re.sub(\"\\W+\",\" \",comment)\n",
    "    \n",
    "    # Remove all the occurrences of links that starts with https\n",
    "    comment=re.sub(r'http\\S+', '', comment)\n",
    "    \n",
    "    # Remove all the occurrences of text that ends with .com\n",
    "    comment=re.sub(r\"\\ [A-Za-z]*\\.com\", \" \",comment)\n",
    "    \n",
    "    # Remove all whitespaces\n",
    "    pattern=re.compile(r'\\s+') \n",
    "    comment= re.sub(pattern, ' ',comment)\n",
    "    comment=comment.replace('?', ' ? ').replace(')', ') ')\n",
    "    \n",
    "    # Remove repeated characters/punctuation-marks\n",
    "    # Pattern matching for all case alphabets\n",
    "    pattern=re.compile(r\"([A-Za-z])\\1{1,}\",re.DOTALL)\n",
    "    \n",
    "    # Limiting all the  repeatation to two characters.\n",
    "    comment=pattern.sub(r\"\\1\\1\",comment) \n",
    "    \n",
    "    # Pattern matching for all the punctuations that can occur\n",
    "    pattern=re.compile(r'([.,/#!$%^&*?;:{}=_`~()+-])\\1{1,}')\n",
    "    \n",
    "    # Limiting punctuations in previously formatted string to only one.\n",
    "    comment=pattern.sub(r'\\1',comment)\n",
    "    \n",
    "    # The below statement is replacing repeatation of spaces that occur more than two times with that of one occurrence.\n",
    "    comment=re.sub(' {2,}',' ', comment)\n",
    "    \n",
    "    # Remove special characters\n",
    "    comment=re.sub(r\"[^a-zA-Z:$-,%.?!]+\", ' ',comment) \n",
    "    \n",
    "    # converting each comment to lower case\n",
    "    comment=comment.lower()\n",
    "    \n",
    "    # splitting comment into words\n",
    "    words=tokenizer.tokenize(comment)\n",
    "    \n",
    "    # removing stop words\n",
    "    words=[w for w in words if not w in stop_words]\n",
    "    \n",
    "    # removing the short_hands to their full forms\n",
    "    words=[short_hands[word] if word in short_hands else word for word in words]\n",
    "    \n",
    "    words=[lemmatizer.lemmatize(w,\"v\") for w in words]\n",
    "    \n",
    "    return ' '.join(words)\n"
   ]
  },
  {
   "cell_type": "markdown",
   "id": "2e0392d5",
   "metadata": {
    "papermill": {
     "duration": 0.014803,
     "end_time": "2022-11-28T13:11:34.131611",
     "exception": false,
     "start_time": "2022-11-28T13:11:34.116808",
     "status": "completed"
    },
    "tags": []
   },
   "source": [
    "# Reading Datasets\n"
   ]
  },
  {
   "cell_type": "code",
   "execution_count": 5,
   "id": "45d5927d",
   "metadata": {
    "execution": {
     "iopub.execute_input": "2022-11-28T13:11:34.161058Z",
     "iopub.status.busy": "2022-11-28T13:11:34.160769Z",
     "iopub.status.idle": "2022-11-28T13:11:37.904729Z",
     "shell.execute_reply": "2022-11-28T13:11:37.903600Z"
    },
    "papermill": {
     "duration": 3.757581,
     "end_time": "2022-11-28T13:11:37.907698",
     "exception": false,
     "start_time": "2022-11-28T13:11:34.150117",
     "status": "completed"
    },
    "tags": []
   },
   "outputs": [],
   "source": [
    "train=pd.read_csv('/kaggle/input/toxiccommentdata/train.csv')\n",
    "submission=pd.read_csv('/kaggle/input/toxiccommentdata/sample_submission.csv')\n",
    "test=pd.read_csv('/kaggle/input/toxiccommentdata/test.csv')"
   ]
  },
  {
   "cell_type": "code",
   "execution_count": 6,
   "id": "4c462070",
   "metadata": {
    "execution": {
     "iopub.execute_input": "2022-11-28T13:11:37.931594Z",
     "iopub.status.busy": "2022-11-28T13:11:37.930560Z",
     "iopub.status.idle": "2022-11-28T13:11:37.953479Z",
     "shell.execute_reply": "2022-11-28T13:11:37.952335Z"
    },
    "papermill": {
     "duration": 0.037748,
     "end_time": "2022-11-28T13:11:37.956407",
     "exception": false,
     "start_time": "2022-11-28T13:11:37.918659",
     "status": "completed"
    },
    "tags": []
   },
   "outputs": [
    {
     "data": {
      "text/html": [
       "<div>\n",
       "<style scoped>\n",
       "    .dataframe tbody tr th:only-of-type {\n",
       "        vertical-align: middle;\n",
       "    }\n",
       "\n",
       "    .dataframe tbody tr th {\n",
       "        vertical-align: top;\n",
       "    }\n",
       "\n",
       "    .dataframe thead th {\n",
       "        text-align: right;\n",
       "    }\n",
       "</style>\n",
       "<table border=\"1\" class=\"dataframe\">\n",
       "  <thead>\n",
       "    <tr style=\"text-align: right;\">\n",
       "      <th></th>\n",
       "      <th>id</th>\n",
       "      <th>comment_text</th>\n",
       "      <th>toxic</th>\n",
       "      <th>severe_toxic</th>\n",
       "      <th>obscene</th>\n",
       "      <th>threat</th>\n",
       "      <th>insult</th>\n",
       "      <th>identity_hate</th>\n",
       "    </tr>\n",
       "  </thead>\n",
       "  <tbody>\n",
       "    <tr>\n",
       "      <th>0</th>\n",
       "      <td>0000997932d777bf</td>\n",
       "      <td>Explanation\\nWhy the edits made under my usern...</td>\n",
       "      <td>0</td>\n",
       "      <td>0</td>\n",
       "      <td>0</td>\n",
       "      <td>0</td>\n",
       "      <td>0</td>\n",
       "      <td>0</td>\n",
       "    </tr>\n",
       "    <tr>\n",
       "      <th>1</th>\n",
       "      <td>000103f0d9cfb60f</td>\n",
       "      <td>D'aww! He matches this background colour I'm s...</td>\n",
       "      <td>0</td>\n",
       "      <td>0</td>\n",
       "      <td>0</td>\n",
       "      <td>0</td>\n",
       "      <td>0</td>\n",
       "      <td>0</td>\n",
       "    </tr>\n",
       "    <tr>\n",
       "      <th>2</th>\n",
       "      <td>000113f07ec002fd</td>\n",
       "      <td>Hey man, I'm really not trying to edit war. It...</td>\n",
       "      <td>0</td>\n",
       "      <td>0</td>\n",
       "      <td>0</td>\n",
       "      <td>0</td>\n",
       "      <td>0</td>\n",
       "      <td>0</td>\n",
       "    </tr>\n",
       "    <tr>\n",
       "      <th>3</th>\n",
       "      <td>0001b41b1c6bb37e</td>\n",
       "      <td>\"\\nMore\\nI can't make any real suggestions on ...</td>\n",
       "      <td>0</td>\n",
       "      <td>0</td>\n",
       "      <td>0</td>\n",
       "      <td>0</td>\n",
       "      <td>0</td>\n",
       "      <td>0</td>\n",
       "    </tr>\n",
       "    <tr>\n",
       "      <th>4</th>\n",
       "      <td>0001d958c54c6e35</td>\n",
       "      <td>You, sir, are my hero. Any chance you remember...</td>\n",
       "      <td>0</td>\n",
       "      <td>0</td>\n",
       "      <td>0</td>\n",
       "      <td>0</td>\n",
       "      <td>0</td>\n",
       "      <td>0</td>\n",
       "    </tr>\n",
       "    <tr>\n",
       "      <th>5</th>\n",
       "      <td>00025465d4725e87</td>\n",
       "      <td>\"\\n\\nCongratulations from me as well, use the ...</td>\n",
       "      <td>0</td>\n",
       "      <td>0</td>\n",
       "      <td>0</td>\n",
       "      <td>0</td>\n",
       "      <td>0</td>\n",
       "      <td>0</td>\n",
       "    </tr>\n",
       "    <tr>\n",
       "      <th>6</th>\n",
       "      <td>0002bcb3da6cb337</td>\n",
       "      <td>COCKSUCKER BEFORE YOU PISS AROUND ON MY WORK</td>\n",
       "      <td>1</td>\n",
       "      <td>1</td>\n",
       "      <td>1</td>\n",
       "      <td>0</td>\n",
       "      <td>1</td>\n",
       "      <td>0</td>\n",
       "    </tr>\n",
       "    <tr>\n",
       "      <th>7</th>\n",
       "      <td>00031b1e95af7921</td>\n",
       "      <td>Your vandalism to the Matt Shirvington article...</td>\n",
       "      <td>0</td>\n",
       "      <td>0</td>\n",
       "      <td>0</td>\n",
       "      <td>0</td>\n",
       "      <td>0</td>\n",
       "      <td>0</td>\n",
       "    </tr>\n",
       "    <tr>\n",
       "      <th>8</th>\n",
       "      <td>00037261f536c51d</td>\n",
       "      <td>Sorry if the word 'nonsense' was offensive to ...</td>\n",
       "      <td>0</td>\n",
       "      <td>0</td>\n",
       "      <td>0</td>\n",
       "      <td>0</td>\n",
       "      <td>0</td>\n",
       "      <td>0</td>\n",
       "    </tr>\n",
       "    <tr>\n",
       "      <th>9</th>\n",
       "      <td>00040093b2687caa</td>\n",
       "      <td>alignment on this subject and which are contra...</td>\n",
       "      <td>0</td>\n",
       "      <td>0</td>\n",
       "      <td>0</td>\n",
       "      <td>0</td>\n",
       "      <td>0</td>\n",
       "      <td>0</td>\n",
       "    </tr>\n",
       "    <tr>\n",
       "      <th>10</th>\n",
       "      <td>0005300084f90edc</td>\n",
       "      <td>\"\\nFair use rationale for Image:Wonju.jpg\\n\\nT...</td>\n",
       "      <td>0</td>\n",
       "      <td>0</td>\n",
       "      <td>0</td>\n",
       "      <td>0</td>\n",
       "      <td>0</td>\n",
       "      <td>0</td>\n",
       "    </tr>\n",
       "    <tr>\n",
       "      <th>11</th>\n",
       "      <td>00054a5e18b50dd4</td>\n",
       "      <td>bbq \\n\\nbe a man and lets discuss it-maybe ove...</td>\n",
       "      <td>0</td>\n",
       "      <td>0</td>\n",
       "      <td>0</td>\n",
       "      <td>0</td>\n",
       "      <td>0</td>\n",
       "      <td>0</td>\n",
       "    </tr>\n",
       "  </tbody>\n",
       "</table>\n",
       "</div>"
      ],
      "text/plain": [
       "                  id                                       comment_text  \\\n",
       "0   0000997932d777bf  Explanation\\nWhy the edits made under my usern...   \n",
       "1   000103f0d9cfb60f  D'aww! He matches this background colour I'm s...   \n",
       "2   000113f07ec002fd  Hey man, I'm really not trying to edit war. It...   \n",
       "3   0001b41b1c6bb37e  \"\\nMore\\nI can't make any real suggestions on ...   \n",
       "4   0001d958c54c6e35  You, sir, are my hero. Any chance you remember...   \n",
       "5   00025465d4725e87  \"\\n\\nCongratulations from me as well, use the ...   \n",
       "6   0002bcb3da6cb337       COCKSUCKER BEFORE YOU PISS AROUND ON MY WORK   \n",
       "7   00031b1e95af7921  Your vandalism to the Matt Shirvington article...   \n",
       "8   00037261f536c51d  Sorry if the word 'nonsense' was offensive to ...   \n",
       "9   00040093b2687caa  alignment on this subject and which are contra...   \n",
       "10  0005300084f90edc  \"\\nFair use rationale for Image:Wonju.jpg\\n\\nT...   \n",
       "11  00054a5e18b50dd4  bbq \\n\\nbe a man and lets discuss it-maybe ove...   \n",
       "\n",
       "    toxic  severe_toxic  obscene  threat  insult  identity_hate  \n",
       "0       0             0        0       0       0              0  \n",
       "1       0             0        0       0       0              0  \n",
       "2       0             0        0       0       0              0  \n",
       "3       0             0        0       0       0              0  \n",
       "4       0             0        0       0       0              0  \n",
       "5       0             0        0       0       0              0  \n",
       "6       1             1        1       0       1              0  \n",
       "7       0             0        0       0       0              0  \n",
       "8       0             0        0       0       0              0  \n",
       "9       0             0        0       0       0              0  \n",
       "10      0             0        0       0       0              0  \n",
       "11      0             0        0       0       0              0  "
      ]
     },
     "execution_count": 6,
     "metadata": {},
     "output_type": "execute_result"
    }
   ],
   "source": [
    "train.head(12)"
   ]
  },
  {
   "cell_type": "code",
   "execution_count": 7,
   "id": "d3d0d356",
   "metadata": {
    "execution": {
     "iopub.execute_input": "2022-11-28T13:11:37.978658Z",
     "iopub.status.busy": "2022-11-28T13:11:37.978370Z",
     "iopub.status.idle": "2022-11-28T13:11:37.987671Z",
     "shell.execute_reply": "2022-11-28T13:11:37.986793Z"
    },
    "papermill": {
     "duration": 0.022873,
     "end_time": "2022-11-28T13:11:37.989687",
     "exception": false,
     "start_time": "2022-11-28T13:11:37.966814",
     "status": "completed"
    },
    "tags": []
   },
   "outputs": [
    {
     "data": {
      "text/html": [
       "<div>\n",
       "<style scoped>\n",
       "    .dataframe tbody tr th:only-of-type {\n",
       "        vertical-align: middle;\n",
       "    }\n",
       "\n",
       "    .dataframe tbody tr th {\n",
       "        vertical-align: top;\n",
       "    }\n",
       "\n",
       "    .dataframe thead th {\n",
       "        text-align: right;\n",
       "    }\n",
       "</style>\n",
       "<table border=\"1\" class=\"dataframe\">\n",
       "  <thead>\n",
       "    <tr style=\"text-align: right;\">\n",
       "      <th></th>\n",
       "      <th>id</th>\n",
       "      <th>comment_text</th>\n",
       "    </tr>\n",
       "  </thead>\n",
       "  <tbody>\n",
       "    <tr>\n",
       "      <th>0</th>\n",
       "      <td>00001cee341fdb12</td>\n",
       "      <td>Yo bitch Ja Rule is more succesful then you'll...</td>\n",
       "    </tr>\n",
       "    <tr>\n",
       "      <th>1</th>\n",
       "      <td>0000247867823ef7</td>\n",
       "      <td>== From RfC == \\n\\n The title is fine as it is...</td>\n",
       "    </tr>\n",
       "    <tr>\n",
       "      <th>2</th>\n",
       "      <td>00013b17ad220c46</td>\n",
       "      <td>\" \\n\\n == Sources == \\n\\n * Zawe Ashton on Lap...</td>\n",
       "    </tr>\n",
       "    <tr>\n",
       "      <th>3</th>\n",
       "      <td>00017563c3f7919a</td>\n",
       "      <td>:If you have a look back at the source, the in...</td>\n",
       "    </tr>\n",
       "    <tr>\n",
       "      <th>4</th>\n",
       "      <td>00017695ad8997eb</td>\n",
       "      <td>I don't anonymously edit articles at all.</td>\n",
       "    </tr>\n",
       "    <tr>\n",
       "      <th>5</th>\n",
       "      <td>0001ea8717f6de06</td>\n",
       "      <td>Thank you for understanding. I think very high...</td>\n",
       "    </tr>\n",
       "    <tr>\n",
       "      <th>6</th>\n",
       "      <td>00024115d4cbde0f</td>\n",
       "      <td>Please do not add nonsense to Wikipedia. Such ...</td>\n",
       "    </tr>\n",
       "    <tr>\n",
       "      <th>7</th>\n",
       "      <td>000247e83dcc1211</td>\n",
       "      <td>:Dear god this site is horrible.</td>\n",
       "    </tr>\n",
       "    <tr>\n",
       "      <th>8</th>\n",
       "      <td>00025358d4737918</td>\n",
       "      <td>\" \\n Only a fool can believe in such numbers. ...</td>\n",
       "    </tr>\n",
       "    <tr>\n",
       "      <th>9</th>\n",
       "      <td>00026d1092fe71cc</td>\n",
       "      <td>== Double Redirects == \\n\\n When fixing double...</td>\n",
       "    </tr>\n",
       "    <tr>\n",
       "      <th>10</th>\n",
       "      <td>0002eadc3b301559</td>\n",
       "      <td>I think its crap that the link to roggenbier i...</td>\n",
       "    </tr>\n",
       "    <tr>\n",
       "      <th>11</th>\n",
       "      <td>0002f87b16116a7f</td>\n",
       "      <td>\"::: Somebody will invariably try to add Relig...</td>\n",
       "    </tr>\n",
       "  </tbody>\n",
       "</table>\n",
       "</div>"
      ],
      "text/plain": [
       "                  id                                       comment_text\n",
       "0   00001cee341fdb12  Yo bitch Ja Rule is more succesful then you'll...\n",
       "1   0000247867823ef7  == From RfC == \\n\\n The title is fine as it is...\n",
       "2   00013b17ad220c46  \" \\n\\n == Sources == \\n\\n * Zawe Ashton on Lap...\n",
       "3   00017563c3f7919a  :If you have a look back at the source, the in...\n",
       "4   00017695ad8997eb          I don't anonymously edit articles at all.\n",
       "5   0001ea8717f6de06  Thank you for understanding. I think very high...\n",
       "6   00024115d4cbde0f  Please do not add nonsense to Wikipedia. Such ...\n",
       "7   000247e83dcc1211                   :Dear god this site is horrible.\n",
       "8   00025358d4737918  \" \\n Only a fool can believe in such numbers. ...\n",
       "9   00026d1092fe71cc  == Double Redirects == \\n\\n When fixing double...\n",
       "10  0002eadc3b301559  I think its crap that the link to roggenbier i...\n",
       "11  0002f87b16116a7f  \"::: Somebody will invariably try to add Relig..."
      ]
     },
     "execution_count": 7,
     "metadata": {},
     "output_type": "execute_result"
    }
   ],
   "source": [
    "test.head(12)"
   ]
  },
  {
   "cell_type": "markdown",
   "id": "427773e8",
   "metadata": {
    "papermill": {
     "duration": 0.010206,
     "end_time": "2022-11-28T13:11:38.010193",
     "exception": false,
     "start_time": "2022-11-28T13:11:37.999987",
     "status": "completed"
    },
    "tags": []
   },
   "source": [
    "# Labels"
   ]
  },
  {
   "cell_type": "code",
   "execution_count": 8,
   "id": "f22a0a18",
   "metadata": {
    "execution": {
     "iopub.execute_input": "2022-11-28T13:11:38.033105Z",
     "iopub.status.busy": "2022-11-28T13:11:38.032390Z",
     "iopub.status.idle": "2022-11-28T13:11:38.039576Z",
     "shell.execute_reply": "2022-11-28T13:11:38.038365Z"
    },
    "papermill": {
     "duration": 0.02072,
     "end_time": "2022-11-28T13:11:38.041641",
     "exception": false,
     "start_time": "2022-11-28T13:11:38.020921",
     "status": "completed"
    },
    "tags": []
   },
   "outputs": [
    {
     "data": {
      "text/plain": [
       "['toxic', 'severe_toxic', 'obscene', 'threat', 'insult', 'identity_hate']"
      ]
     },
     "execution_count": 8,
     "metadata": {},
     "output_type": "execute_result"
    }
   ],
   "source": [
    "target_labels = ['toxic','severe_toxic','obscene','threat','insult','identity_hate']\n",
    "target_labels"
   ]
  },
  {
   "cell_type": "code",
   "execution_count": 9,
   "id": "6fabc592",
   "metadata": {
    "execution": {
     "iopub.execute_input": "2022-11-28T13:11:38.063968Z",
     "iopub.status.busy": "2022-11-28T13:11:38.063327Z",
     "iopub.status.idle": "2022-11-28T13:11:38.077446Z",
     "shell.execute_reply": "2022-11-28T13:11:38.076494Z"
    },
    "papermill": {
     "duration": 0.027744,
     "end_time": "2022-11-28T13:11:38.079812",
     "exception": false,
     "start_time": "2022-11-28T13:11:38.052068",
     "status": "completed"
    },
    "tags": []
   },
   "outputs": [
    {
     "data": {
      "text/plain": [
       "array([[0, 0, 0, 0, 0, 0],\n",
       "       [0, 0, 0, 0, 0, 0],\n",
       "       [0, 0, 0, 0, 0, 0],\n",
       "       [0, 0, 0, 0, 0, 0],\n",
       "       [0, 0, 0, 0, 0, 0],\n",
       "       [1, 1, 1, 0, 1, 0],\n",
       "       [0, 0, 0, 0, 0, 0],\n",
       "       [0, 0, 0, 0, 0, 0],\n",
       "       [0, 0, 0, 0, 0, 0]])"
      ]
     },
     "execution_count": 9,
     "metadata": {},
     "output_type": "execute_result"
    }
   ],
   "source": [
    "y_train = train[target_labels].values\n",
    "y_train[1:10,:] #1st 10 examples"
   ]
  },
  {
   "cell_type": "code",
   "execution_count": 10,
   "id": "56286d57",
   "metadata": {
    "execution": {
     "iopub.execute_input": "2022-11-28T13:11:38.102225Z",
     "iopub.status.busy": "2022-11-28T13:11:38.101949Z",
     "iopub.status.idle": "2022-11-28T13:11:38.111697Z",
     "shell.execute_reply": "2022-11-28T13:11:38.110636Z"
    },
    "papermill": {
     "duration": 0.02345,
     "end_time": "2022-11-28T13:11:38.113774",
     "exception": false,
     "start_time": "2022-11-28T13:11:38.090324",
     "status": "completed"
    },
    "tags": []
   },
   "outputs": [
    {
     "data": {
      "text/html": [
       "<div>\n",
       "<style scoped>\n",
       "    .dataframe tbody tr th:only-of-type {\n",
       "        vertical-align: middle;\n",
       "    }\n",
       "\n",
       "    .dataframe tbody tr th {\n",
       "        vertical-align: top;\n",
       "    }\n",
       "\n",
       "    .dataframe thead th {\n",
       "        text-align: right;\n",
       "    }\n",
       "</style>\n",
       "<table border=\"1\" class=\"dataframe\">\n",
       "  <thead>\n",
       "    <tr style=\"text-align: right;\">\n",
       "      <th></th>\n",
       "      <th>id</th>\n",
       "      <th>comment_text</th>\n",
       "    </tr>\n",
       "  </thead>\n",
       "  <tbody>\n",
       "    <tr>\n",
       "      <th>0</th>\n",
       "      <td>00001cee341fdb12</td>\n",
       "      <td>Yo bitch Ja Rule is more succesful then you'll...</td>\n",
       "    </tr>\n",
       "    <tr>\n",
       "      <th>1</th>\n",
       "      <td>0000247867823ef7</td>\n",
       "      <td>== From RfC == \\n\\n The title is fine as it is...</td>\n",
       "    </tr>\n",
       "    <tr>\n",
       "      <th>2</th>\n",
       "      <td>00013b17ad220c46</td>\n",
       "      <td>\" \\n\\n == Sources == \\n\\n * Zawe Ashton on Lap...</td>\n",
       "    </tr>\n",
       "    <tr>\n",
       "      <th>3</th>\n",
       "      <td>00017563c3f7919a</td>\n",
       "      <td>:If you have a look back at the source, the in...</td>\n",
       "    </tr>\n",
       "    <tr>\n",
       "      <th>4</th>\n",
       "      <td>00017695ad8997eb</td>\n",
       "      <td>I don't anonymously edit articles at all.</td>\n",
       "    </tr>\n",
       "    <tr>\n",
       "      <th>5</th>\n",
       "      <td>0001ea8717f6de06</td>\n",
       "      <td>Thank you for understanding. I think very high...</td>\n",
       "    </tr>\n",
       "    <tr>\n",
       "      <th>6</th>\n",
       "      <td>00024115d4cbde0f</td>\n",
       "      <td>Please do not add nonsense to Wikipedia. Such ...</td>\n",
       "    </tr>\n",
       "    <tr>\n",
       "      <th>7</th>\n",
       "      <td>000247e83dcc1211</td>\n",
       "      <td>:Dear god this site is horrible.</td>\n",
       "    </tr>\n",
       "    <tr>\n",
       "      <th>8</th>\n",
       "      <td>00025358d4737918</td>\n",
       "      <td>\" \\n Only a fool can believe in such numbers. ...</td>\n",
       "    </tr>\n",
       "    <tr>\n",
       "      <th>9</th>\n",
       "      <td>00026d1092fe71cc</td>\n",
       "      <td>== Double Redirects == \\n\\n When fixing double...</td>\n",
       "    </tr>\n",
       "  </tbody>\n",
       "</table>\n",
       "</div>"
      ],
      "text/plain": [
       "                 id                                       comment_text\n",
       "0  00001cee341fdb12  Yo bitch Ja Rule is more succesful then you'll...\n",
       "1  0000247867823ef7  == From RfC == \\n\\n The title is fine as it is...\n",
       "2  00013b17ad220c46  \" \\n\\n == Sources == \\n\\n * Zawe Ashton on Lap...\n",
       "3  00017563c3f7919a  :If you have a look back at the source, the in...\n",
       "4  00017695ad8997eb          I don't anonymously edit articles at all.\n",
       "5  0001ea8717f6de06  Thank you for understanding. I think very high...\n",
       "6  00024115d4cbde0f  Please do not add nonsense to Wikipedia. Such ...\n",
       "7  000247e83dcc1211                   :Dear god this site is horrible.\n",
       "8  00025358d4737918  \" \\n Only a fool can believe in such numbers. ...\n",
       "9  00026d1092fe71cc  == Double Redirects == \\n\\n When fixing double..."
      ]
     },
     "execution_count": 10,
     "metadata": {},
     "output_type": "execute_result"
    }
   ],
   "source": [
    "test.head(10)"
   ]
  },
  {
   "cell_type": "code",
   "execution_count": 11,
   "id": "e4b3236a",
   "metadata": {
    "execution": {
     "iopub.execute_input": "2022-11-28T13:11:38.136818Z",
     "iopub.status.busy": "2022-11-28T13:11:38.136544Z",
     "iopub.status.idle": "2022-11-28T13:11:38.147495Z",
     "shell.execute_reply": "2022-11-28T13:11:38.146522Z"
    },
    "papermill": {
     "duration": 0.024809,
     "end_time": "2022-11-28T13:11:38.149710",
     "exception": false,
     "start_time": "2022-11-28T13:11:38.124901",
     "status": "completed"
    },
    "tags": []
   },
   "outputs": [
    {
     "data": {
      "text/html": [
       "<div>\n",
       "<style scoped>\n",
       "    .dataframe tbody tr th:only-of-type {\n",
       "        vertical-align: middle;\n",
       "    }\n",
       "\n",
       "    .dataframe tbody tr th {\n",
       "        vertical-align: top;\n",
       "    }\n",
       "\n",
       "    .dataframe thead th {\n",
       "        text-align: right;\n",
       "    }\n",
       "</style>\n",
       "<table border=\"1\" class=\"dataframe\">\n",
       "  <thead>\n",
       "    <tr style=\"text-align: right;\">\n",
       "      <th></th>\n",
       "      <th>id</th>\n",
       "      <th>comment_text</th>\n",
       "      <th>toxic</th>\n",
       "      <th>severe_toxic</th>\n",
       "      <th>obscene</th>\n",
       "      <th>threat</th>\n",
       "      <th>insult</th>\n",
       "      <th>identity_hate</th>\n",
       "    </tr>\n",
       "  </thead>\n",
       "  <tbody>\n",
       "    <tr>\n",
       "      <th>0</th>\n",
       "      <td>0000997932d777bf</td>\n",
       "      <td>Explanation\\nWhy the edits made under my usern...</td>\n",
       "      <td>0</td>\n",
       "      <td>0</td>\n",
       "      <td>0</td>\n",
       "      <td>0</td>\n",
       "      <td>0</td>\n",
       "      <td>0</td>\n",
       "    </tr>\n",
       "  </tbody>\n",
       "</table>\n",
       "</div>"
      ],
      "text/plain": [
       "                 id                                       comment_text  toxic  \\\n",
       "0  0000997932d777bf  Explanation\\nWhy the edits made under my usern...      0   \n",
       "\n",
       "   severe_toxic  obscene  threat  insult  identity_hate  \n",
       "0             0        0       0       0              0  "
      ]
     },
     "execution_count": 11,
     "metadata": {},
     "output_type": "execute_result"
    }
   ],
   "source": [
    "train[:1]"
   ]
  },
  {
   "cell_type": "code",
   "execution_count": 12,
   "id": "7a35c6d5",
   "metadata": {
    "execution": {
     "iopub.execute_input": "2022-11-28T13:11:38.172913Z",
     "iopub.status.busy": "2022-11-28T13:11:38.172646Z",
     "iopub.status.idle": "2022-11-28T13:11:38.182270Z",
     "shell.execute_reply": "2022-11-28T13:11:38.181250Z"
    },
    "papermill": {
     "duration": 0.023577,
     "end_time": "2022-11-28T13:11:38.184431",
     "exception": false,
     "start_time": "2022-11-28T13:11:38.160854",
     "status": "completed"
    },
    "tags": []
   },
   "outputs": [
    {
     "data": {
      "text/html": [
       "<div>\n",
       "<style scoped>\n",
       "    .dataframe tbody tr th:only-of-type {\n",
       "        vertical-align: middle;\n",
       "    }\n",
       "\n",
       "    .dataframe tbody tr th {\n",
       "        vertical-align: top;\n",
       "    }\n",
       "\n",
       "    .dataframe thead th {\n",
       "        text-align: right;\n",
       "    }\n",
       "</style>\n",
       "<table border=\"1\" class=\"dataframe\">\n",
       "  <thead>\n",
       "    <tr style=\"text-align: right;\">\n",
       "      <th></th>\n",
       "      <th>id</th>\n",
       "      <th>comment_text</th>\n",
       "    </tr>\n",
       "  </thead>\n",
       "  <tbody>\n",
       "    <tr>\n",
       "      <th>0</th>\n",
       "      <td>00001cee341fdb12</td>\n",
       "      <td>Yo bitch Ja Rule is more succesful then you'll...</td>\n",
       "    </tr>\n",
       "  </tbody>\n",
       "</table>\n",
       "</div>"
      ],
      "text/plain": [
       "                 id                                       comment_text\n",
       "0  00001cee341fdb12  Yo bitch Ja Rule is more succesful then you'll..."
      ]
     },
     "execution_count": 12,
     "metadata": {},
     "output_type": "execute_result"
    }
   ],
   "source": [
    "test[:1]"
   ]
  },
  {
   "cell_type": "markdown",
   "id": "d89c71e1",
   "metadata": {
    "papermill": {
     "duration": 0.011227,
     "end_time": "2022-11-28T13:11:38.206808",
     "exception": false,
     "start_time": "2022-11-28T13:11:38.195581",
     "status": "completed"
    },
    "tags": []
   },
   "source": [
    "# Cleaning All the comments"
   ]
  },
  {
   "cell_type": "code",
   "execution_count": 13,
   "id": "92b963e5",
   "metadata": {
    "execution": {
     "iopub.execute_input": "2022-11-28T13:11:38.230783Z",
     "iopub.status.busy": "2022-11-28T13:11:38.230505Z",
     "iopub.status.idle": "2022-11-28T13:13:28.073682Z",
     "shell.execute_reply": "2022-11-28T13:13:28.072516Z"
    },
    "papermill": {
     "duration": 109.858654,
     "end_time": "2022-11-28T13:13:28.076700",
     "exception": false,
     "start_time": "2022-11-28T13:11:38.218046",
     "status": "completed"
    },
    "tags": []
   },
   "outputs": [],
   "source": [
    "train_cleaned=train['comment_text'].apply(lambda comment : clean_comment(comment))"
   ]
  },
  {
   "cell_type": "code",
   "execution_count": 14,
   "id": "d79f9d28",
   "metadata": {
    "execution": {
     "iopub.execute_input": "2022-11-28T13:13:28.100685Z",
     "iopub.status.busy": "2022-11-28T13:13:28.100393Z",
     "iopub.status.idle": "2022-11-28T13:13:28.106618Z",
     "shell.execute_reply": "2022-11-28T13:13:28.105556Z"
    },
    "papermill": {
     "duration": 0.021419,
     "end_time": "2022-11-28T13:13:28.109873",
     "exception": false,
     "start_time": "2022-11-28T13:13:28.088454",
     "status": "completed"
    },
    "tags": []
   },
   "outputs": [
    {
     "data": {
      "text/plain": [
       "(159571,)"
      ]
     },
     "execution_count": 14,
     "metadata": {},
     "output_type": "execute_result"
    }
   ],
   "source": [
    "train_cleaned.shape"
   ]
  },
  {
   "cell_type": "code",
   "execution_count": 15,
   "id": "71b8dbca",
   "metadata": {
    "execution": {
     "iopub.execute_input": "2022-11-28T13:13:28.133226Z",
     "iopub.status.busy": "2022-11-28T13:13:28.132932Z",
     "iopub.status.idle": "2022-11-28T13:13:28.139901Z",
     "shell.execute_reply": "2022-11-28T13:13:28.139034Z"
    },
    "papermill": {
     "duration": 0.021261,
     "end_time": "2022-11-28T13:13:28.142086",
     "exception": false,
     "start_time": "2022-11-28T13:13:28.120825",
     "status": "completed"
    },
    "tags": []
   },
   "outputs": [
    {
     "data": {
      "text/plain": [
       "0     explanation edit make username hardcore metall...\n",
       "1     aww match background colour seemingly stick th...\n",
       "2     hey man really try edit war guy constantly rem...\n",
       "3     make real suggestions improvement wonder secti...\n",
       "4                         sir hero chance remember page\n",
       "5               congratulations well use tool well talk\n",
       "6                           cocksucker piss around work\n",
       "7     vandalism matt shirvington article revert plea...\n",
       "8     sorry word nonsense offensive anyway intend wr...\n",
       "9                  alignment subject contrary dulithgow\n",
       "10    fair use rationale image wonju jpg thank uploa...\n",
       "11                      bbq man let discuss maybe phone\n",
       "Name: comment_text, dtype: object"
      ]
     },
     "execution_count": 15,
     "metadata": {},
     "output_type": "execute_result"
    }
   ],
   "source": [
    "train_cleaned.head(12)"
   ]
  },
  {
   "cell_type": "code",
   "execution_count": 16,
   "id": "e54cf868",
   "metadata": {
    "execution": {
     "iopub.execute_input": "2022-11-28T13:13:28.166670Z",
     "iopub.status.busy": "2022-11-28T13:13:28.165733Z",
     "iopub.status.idle": "2022-11-28T13:15:01.863791Z",
     "shell.execute_reply": "2022-11-28T13:15:01.862701Z"
    },
    "papermill": {
     "duration": 93.713573,
     "end_time": "2022-11-28T13:15:01.866862",
     "exception": false,
     "start_time": "2022-11-28T13:13:28.153289",
     "status": "completed"
    },
    "tags": []
   },
   "outputs": [],
   "source": [
    "test_cleaned=test['comment_text'].apply(lambda comment : clean_comment(comment)) "
   ]
  },
  {
   "cell_type": "code",
   "execution_count": 17,
   "id": "adc7fca6",
   "metadata": {
    "execution": {
     "iopub.execute_input": "2022-11-28T13:15:01.892353Z",
     "iopub.status.busy": "2022-11-28T13:15:01.892013Z",
     "iopub.status.idle": "2022-11-28T13:15:01.898489Z",
     "shell.execute_reply": "2022-11-28T13:15:01.897377Z"
    },
    "papermill": {
     "duration": 0.022862,
     "end_time": "2022-11-28T13:15:01.902074",
     "exception": false,
     "start_time": "2022-11-28T13:15:01.879212",
     "status": "completed"
    },
    "tags": []
   },
   "outputs": [
    {
     "data": {
      "text/plain": [
       "(153164,)"
      ]
     },
     "execution_count": 17,
     "metadata": {},
     "output_type": "execute_result"
    }
   ],
   "source": [
    "test_cleaned.shape"
   ]
  },
  {
   "cell_type": "code",
   "execution_count": 18,
   "id": "c1b08ff1",
   "metadata": {
    "execution": {
     "iopub.execute_input": "2022-11-28T13:15:01.928414Z",
     "iopub.status.busy": "2022-11-28T13:15:01.927557Z",
     "iopub.status.idle": "2022-11-28T13:15:01.935661Z",
     "shell.execute_reply": "2022-11-28T13:15:01.934587Z"
    },
    "papermill": {
     "duration": 0.023865,
     "end_time": "2022-11-28T13:15:01.937882",
     "exception": false,
     "start_time": "2022-11-28T13:15:01.914017",
     "status": "completed"
    },
    "tags": []
   },
   "outputs": [
    {
     "data": {
      "text/plain": [
       "0     yo bitch ja rule succesful ever whats hat sad ...\n",
       "1                                    rfc title fine imo\n",
       "2                            source zawe ashton lapland\n",
       "3     look back source information update correct fo...\n",
       "4                              anonymously edit article\n",
       "5     thank understand think highly would revert wit...\n",
       "6     please add nonsense wikipedia edit consider va...\n",
       "7                                dear god site horrible\n",
       "8     fool believe number correct number lie ponder ...\n",
       "9     double redirect fix double redirect blank oute...\n",
       "10    think crap link roggenbier article somebody kn...\n",
       "11    somebody invariably try add religion really me...\n",
       "Name: comment_text, dtype: object"
      ]
     },
     "execution_count": 18,
     "metadata": {},
     "output_type": "execute_result"
    }
   ],
   "source": [
    "test_cleaned.head(12)"
   ]
  },
  {
   "cell_type": "markdown",
   "id": "2c7a054b",
   "metadata": {
    "papermill": {
     "duration": 0.011646,
     "end_time": "2022-11-28T13:15:01.961482",
     "exception": false,
     "start_time": "2022-11-28T13:15:01.949836",
     "status": "completed"
    },
    "tags": []
   },
   "source": [
    "# Saving Cleaned Comments as CSV for later Use"
   ]
  },
  {
   "cell_type": "code",
   "execution_count": 19,
   "id": "7b6643e5",
   "metadata": {
    "execution": {
     "iopub.execute_input": "2022-11-28T13:15:01.986922Z",
     "iopub.status.busy": "2022-11-28T13:15:01.986126Z",
     "iopub.status.idle": "2022-11-28T13:15:03.330737Z",
     "shell.execute_reply": "2022-11-28T13:15:03.329710Z"
    },
    "papermill": {
     "duration": 1.360212,
     "end_time": "2022-11-28T13:15:03.333448",
     "exception": false,
     "start_time": "2022-11-28T13:15:01.973236",
     "status": "completed"
    },
    "tags": []
   },
   "outputs": [],
   "source": [
    "train_clean_df = pd.DataFrame(train_cleaned)\n",
    "train_clean_df.to_csv('train_cleaned.csv')\n",
    "test_clean_df = pd.DataFrame(test_cleaned)\n",
    "test_clean_df.to_csv('test_cleaned.csv')"
   ]
  },
  {
   "cell_type": "markdown",
   "id": "4337b507",
   "metadata": {
    "papermill": {
     "duration": 0.011869,
     "end_time": "2022-11-28T13:15:03.357278",
     "exception": false,
     "start_time": "2022-11-28T13:15:03.345409",
     "status": "completed"
    },
    "tags": []
   },
   "source": [
    "# Hyperparameters"
   ]
  },
  {
   "cell_type": "code",
   "execution_count": 20,
   "id": "0ee200a6",
   "metadata": {
    "execution": {
     "iopub.execute_input": "2022-11-28T13:15:03.382014Z",
     "iopub.status.busy": "2022-11-28T13:15:03.381656Z",
     "iopub.status.idle": "2022-11-28T13:15:03.386201Z",
     "shell.execute_reply": "2022-11-28T13:15:03.385169Z"
    },
    "papermill": {
     "duration": 0.019448,
     "end_time": "2022-11-28T13:15:03.388293",
     "exception": false,
     "start_time": "2022-11-28T13:15:03.368845",
     "status": "completed"
    },
    "tags": []
   },
   "outputs": [],
   "source": [
    "vocab_size=100000\n",
    "embed_size=300"
   ]
  },
  {
   "cell_type": "markdown",
   "id": "efa3e53e",
   "metadata": {
    "papermill": {
     "duration": 0.010914,
     "end_time": "2022-11-28T13:15:03.410559",
     "exception": false,
     "start_time": "2022-11-28T13:15:03.399645",
     "status": "completed"
    },
    "tags": []
   },
   "source": [
    "# Tokenize Comments"
   ]
  },
  {
   "cell_type": "code",
   "execution_count": 21,
   "id": "4cab020b",
   "metadata": {
    "execution": {
     "iopub.execute_input": "2022-11-28T13:15:03.434561Z",
     "iopub.status.busy": "2022-11-28T13:15:03.433660Z",
     "iopub.status.idle": "2022-11-28T13:15:16.703194Z",
     "shell.execute_reply": "2022-11-28T13:15:16.702146Z"
    },
    "papermill": {
     "duration": 13.284034,
     "end_time": "2022-11-28T13:15:16.705860",
     "exception": false,
     "start_time": "2022-11-28T13:15:03.421826",
     "status": "completed"
    },
    "tags": []
   },
   "outputs": [],
   "source": [
    "tokenizer=Tokenizer(vocab_size)\n",
    "tokenizer.fit_on_texts(list(train_cleaned))\n",
    "tokenized_train=tokenizer.texts_to_sequences(train_cleaned)\n",
    "tokenizer_test=tokenizer.texts_to_sequences(test_cleaned)"
   ]
  },
  {
   "cell_type": "code",
   "execution_count": 22,
   "id": "1f38cf56",
   "metadata": {
    "execution": {
     "iopub.execute_input": "2022-11-28T13:15:16.731080Z",
     "iopub.status.busy": "2022-11-28T13:15:16.730782Z",
     "iopub.status.idle": "2022-11-28T13:15:16.739319Z",
     "shell.execute_reply": "2022-11-28T13:15:16.738363Z"
    },
    "papermill": {
     "duration": 0.0233,
     "end_time": "2022-11-28T13:15:16.741523",
     "exception": false,
     "start_time": "2022-11-28T13:15:16.718223",
     "status": "completed"
    },
    "tags": []
   },
   "outputs": [
    {
     "data": {
      "text/plain": [
       "'explanation edit make username hardcore metallica fan revert vandalisms closure gas vote new york dolls fac please remove template talk page since retire'"
      ]
     },
     "execution_count": 22,
     "metadata": {},
     "output_type": "execute_result"
    }
   ],
   "source": [
    "train_cleaned[0]"
   ]
  },
  {
   "cell_type": "code",
   "execution_count": 23,
   "id": "a9f21924",
   "metadata": {
    "execution": {
     "iopub.execute_input": "2022-11-28T13:15:16.766653Z",
     "iopub.status.busy": "2022-11-28T13:15:16.765608Z",
     "iopub.status.idle": "2022-11-28T13:15:16.773250Z",
     "shell.execute_reply": "2022-11-28T13:15:16.772216Z"
    },
    "papermill": {
     "duration": 0.022566,
     "end_time": "2022-11-28T13:15:16.775404",
     "exception": false,
     "start_time": "2022-11-28T13:15:16.752838",
     "status": "completed"
    },
    "tags": []
   },
   "outputs": [
    {
     "data": {
      "text/plain": [
       "[539,\n",
       " 4,\n",
       " 7,\n",
       " 528,\n",
       " 3531,\n",
       " 8958,\n",
       " 593,\n",
       " 64,\n",
       " 9102,\n",
       " 5007,\n",
       " 1952,\n",
       " 415,\n",
       " 59,\n",
       " 1001,\n",
       " 12115,\n",
       " 2242,\n",
       " 8,\n",
       " 35,\n",
       " 253,\n",
       " 5,\n",
       " 2,\n",
       " 78,\n",
       " 2046]"
      ]
     },
     "execution_count": 23,
     "metadata": {},
     "output_type": "execute_result"
    }
   ],
   "source": [
    "tokenized_train[0]"
   ]
  },
  {
   "cell_type": "markdown",
   "id": "f57bea8d",
   "metadata": {
    "papermill": {
     "duration": 0.0113,
     "end_time": "2022-11-28T13:15:16.798481",
     "exception": false,
     "start_time": "2022-11-28T13:15:16.787181",
     "status": "completed"
    },
    "tags": []
   },
   "source": [
    "# Distribution of Comment Lengths"
   ]
  },
  {
   "cell_type": "code",
   "execution_count": 24,
   "id": "6a1181c3",
   "metadata": {
    "execution": {
     "iopub.execute_input": "2022-11-28T13:15:16.823225Z",
     "iopub.status.busy": "2022-11-28T13:15:16.822342Z",
     "iopub.status.idle": "2022-11-28T13:15:17.708316Z",
     "shell.execute_reply": "2022-11-28T13:15:17.707283Z"
    },
    "papermill": {
     "duration": 0.900671,
     "end_time": "2022-11-28T13:15:17.710466",
     "exception": false,
     "start_time": "2022-11-28T13:15:16.809795",
     "status": "completed"
    },
    "tags": []
   },
   "outputs": [
    {
     "name": "stdout",
     "output_type": "stream",
     "text": [
      "mean\t 34.30768122027185\n",
      "std dev\t 53.5793531405591\n"
     ]
    },
    {
     "data": {
      "image/png": "[encoded data removed]",
      "text/plain": [
       "<Figure size 432x288 with 1 Axes>"
      ]
     },
     "metadata": {
      "needs_background": "light"
     },
     "output_type": "display_data"
    }
   ],
   "source": [
    "result = [len(x) for x in tokenized_train]\n",
    "print(\"mean\\t\",np.mean(result))\n",
    "print(\"std dev\\t\", np.std(result))\n",
    "plt.hist(result,bins = 100)\n",
    "plt.show()"
   ]
  },
  {
   "cell_type": "markdown",
   "id": "3429c58f",
   "metadata": {
    "papermill": {
     "duration": 0.011159,
     "end_time": "2022-11-28T13:15:17.733638",
     "exception": false,
     "start_time": "2022-11-28T13:15:17.722479",
     "status": "completed"
    },
    "tags": []
   },
   "source": [
    "# Model Hyperparameters"
   ]
  },
  {
   "cell_type": "code",
   "execution_count": 25,
   "id": "732445a6",
   "metadata": {
    "execution": {
     "iopub.execute_input": "2022-11-28T13:15:17.758102Z",
     "iopub.status.busy": "2022-11-28T13:15:17.757789Z",
     "iopub.status.idle": "2022-11-28T13:15:17.762324Z",
     "shell.execute_reply": "2022-11-28T13:15:17.761389Z"
    },
    "papermill": {
     "duration": 0.019148,
     "end_time": "2022-11-28T13:15:17.764334",
     "exception": false,
     "start_time": "2022-11-28T13:15:17.745186",
     "status": "completed"
    },
    "tags": []
   },
   "outputs": [],
   "source": [
    "# Since almost all of the comments have length<=150 words\n",
    "max_len=140\n",
    "embed_size=300\n",
    "batch_size=32\n",
    "epochs=3"
   ]
  },
  {
   "cell_type": "code",
   "execution_count": 26,
   "id": "e2bc26a4",
   "metadata": {
    "execution": {
     "iopub.execute_input": "2022-11-28T13:15:17.788701Z",
     "iopub.status.busy": "2022-11-28T13:15:17.787931Z",
     "iopub.status.idle": "2022-11-28T13:15:18.935725Z",
     "shell.execute_reply": "2022-11-28T13:15:18.934672Z"
    },
    "papermill": {
     "duration": 1.16299,
     "end_time": "2022-11-28T13:15:18.938418",
     "exception": false,
     "start_time": "2022-11-28T13:15:17.775428",
     "status": "completed"
    },
    "tags": []
   },
   "outputs": [],
   "source": [
    "x_train = pad_sequences(tokenized_train, maxlen = max_len)\n",
    "x_test = pad_sequences(tokenizer_test, maxlen = max_len)"
   ]
  },
  {
   "cell_type": "markdown",
   "id": "c7309f52",
   "metadata": {
    "papermill": {
     "duration": 0.01195,
     "end_time": "2022-11-28T13:15:18.962599",
     "exception": false,
     "start_time": "2022-11-28T13:15:18.950649",
     "status": "completed"
    },
    "tags": []
   },
   "source": [
    "# Model Configuration"
   ]
  },
  {
   "cell_type": "code",
   "execution_count": 27,
   "id": "0dc54d7e",
   "metadata": {
    "execution": {
     "iopub.execute_input": "2022-11-28T13:15:18.988564Z",
     "iopub.status.busy": "2022-11-28T13:15:18.987671Z",
     "iopub.status.idle": "2022-11-28T13:15:23.596167Z",
     "shell.execute_reply": "2022-11-28T13:15:23.595162Z"
    },
    "papermill": {
     "duration": 4.624458,
     "end_time": "2022-11-28T13:15:23.599073",
     "exception": false,
     "start_time": "2022-11-28T13:15:18.974615",
     "status": "completed"
    },
    "tags": []
   },
   "outputs": [
    {
     "name": "stderr",
     "output_type": "stream",
     "text": [
      "2022-11-28 13:15:19.148221: I tensorflow/stream_executor/cuda/cuda_gpu_executor.cc:937] successful NUMA node read from SysFS had negative value (-1), but there must be at least one NUMA node, so returning NUMA node zero\n",
      "2022-11-28 13:15:19.149191: I tensorflow/stream_executor/cuda/cuda_gpu_executor.cc:937] successful NUMA node read from SysFS had negative value (-1), but there must be at least one NUMA node, so returning NUMA node zero\n",
      "2022-11-28 13:15:19.329497: I tensorflow/stream_executor/cuda/cuda_gpu_executor.cc:937] successful NUMA node read from SysFS had negative value (-1), but there must be at least one NUMA node, so returning NUMA node zero\n",
      "2022-11-28 13:15:19.330341: I tensorflow/stream_executor/cuda/cuda_gpu_executor.cc:937] successful NUMA node read from SysFS had negative value (-1), but there must be at least one NUMA node, so returning NUMA node zero\n",
      "2022-11-28 13:15:19.331136: I tensorflow/stream_executor/cuda/cuda_gpu_executor.cc:937] successful NUMA node read from SysFS had negative value (-1), but there must be at least one NUMA node, so returning NUMA node zero\n",
      "2022-11-28 13:15:19.331955: I tensorflow/stream_executor/cuda/cuda_gpu_executor.cc:937] successful NUMA node read from SysFS had negative value (-1), but there must be at least one NUMA node, so returning NUMA node zero\n",
      "2022-11-28 13:15:19.333393: I tensorflow/core/platform/cpu_feature_guard.cc:142] This TensorFlow binary is optimized with oneAPI Deep Neural Network Library (oneDNN) to use the following CPU instructions in performance-critical operations:  AVX2 AVX512F FMA\n",
      "To enable them in other operations, rebuild TensorFlow with the appropriate compiler flags.\n",
      "2022-11-28 13:15:19.604242: I tensorflow/stream_executor/cuda/cuda_gpu_executor.cc:937] successful NUMA node read from SysFS had negative value (-1), but there must be at least one NUMA node, so returning NUMA node zero\n",
      "2022-11-28 13:15:19.605249: I tensorflow/stream_executor/cuda/cuda_gpu_executor.cc:937] successful NUMA node read from SysFS had negative value (-1), but there must be at least one NUMA node, so returning NUMA node zero\n",
      "2022-11-28 13:15:19.606046: I tensorflow/stream_executor/cuda/cuda_gpu_executor.cc:937] successful NUMA node read from SysFS had negative value (-1), but there must be at least one NUMA node, so returning NUMA node zero\n",
      "2022-11-28 13:15:19.607044: I tensorflow/stream_executor/cuda/cuda_gpu_executor.cc:937] successful NUMA node read from SysFS had negative value (-1), but there must be at least one NUMA node, so returning NUMA node zero\n",
      "2022-11-28 13:15:19.608215: I tensorflow/stream_executor/cuda/cuda_gpu_executor.cc:937] successful NUMA node read from SysFS had negative value (-1), but there must be at least one NUMA node, so returning NUMA node zero\n",
      "2022-11-28 13:15:19.610217: I tensorflow/stream_executor/cuda/cuda_gpu_executor.cc:937] successful NUMA node read from SysFS had negative value (-1), but there must be at least one NUMA node, so returning NUMA node zero\n",
      "2022-11-28 13:15:22.897378: I tensorflow/stream_executor/cuda/cuda_gpu_executor.cc:937] successful NUMA node read from SysFS had negative value (-1), but there must be at least one NUMA node, so returning NUMA node zero\n",
      "2022-11-28 13:15:22.898263: I tensorflow/stream_executor/cuda/cuda_gpu_executor.cc:937] successful NUMA node read from SysFS had negative value (-1), but there must be at least one NUMA node, so returning NUMA node zero\n",
      "2022-11-28 13:15:22.899084: I tensorflow/stream_executor/cuda/cuda_gpu_executor.cc:937] successful NUMA node read from SysFS had negative value (-1), but there must be at least one NUMA node, so returning NUMA node zero\n",
      "2022-11-28 13:15:22.899886: I tensorflow/stream_executor/cuda/cuda_gpu_executor.cc:937] successful NUMA node read from SysFS had negative value (-1), but there must be at least one NUMA node, so returning NUMA node zero\n",
      "2022-11-28 13:15:22.900703: I tensorflow/stream_executor/cuda/cuda_gpu_executor.cc:937] successful NUMA node read from SysFS had negative value (-1), but there must be at least one NUMA node, so returning NUMA node zero\n",
      "2022-11-28 13:15:22.901370: I tensorflow/core/common_runtime/gpu/gpu_device.cc:1510] Created device /job:localhost/replica:0/task:0/device:GPU:0 with 13789 MB memory:  -> device: 0, name: Tesla T4, pci bus id: 0000:00:04.0, compute capability: 7.5\n",
      "2022-11-28 13:15:22.904831: I tensorflow/stream_executor/cuda/cuda_gpu_executor.cc:937] successful NUMA node read from SysFS had negative value (-1), but there must be at least one NUMA node, so returning NUMA node zero\n",
      "2022-11-28 13:15:22.905643: I tensorflow/core/common_runtime/gpu/gpu_device.cc:1510] Created device /job:localhost/replica:0/task:0/device:GPU:1 with 13789 MB memory:  -> device: 1, name: Tesla T4, pci bus id: 0000:00:05.0, compute capability: 7.5\n"
     ]
    }
   ],
   "source": [
    "inputs=Input(shape=(max_len, ))\n",
    "\n",
    "x = Embedding(vocab_size, embed_size)(inputs)\n",
    "out_dim = 128\n",
    "\n",
    "x = Bidirectional(GRU(out_dim, return_sequences = True, dropout=0.25, recurrent_dropout=0.25))(x)\n",
    "\n",
    "globalAveragePool = GlobalAveragePooling1D()(x)\n",
    "globalMaxPool = GlobalMaxPooling1D()(x)\n",
    "\n",
    "x=concatenate([globalAveragePool,globalMaxPool])\n",
    "\n",
    "x = Dropout(0.15)(x)\n",
    "x = Dense(6,activation = 'sigmoid')(x)\n",
    "\n",
    "model=Model(inputs = inputs, outputs = x)\n",
    "model.compile(loss='binary_crossentropy',optimizer='adam',metrics=['accuracy'])"
   ]
  },
  {
   "cell_type": "markdown",
   "id": "d2b98140",
   "metadata": {
    "papermill": {
     "duration": 0.011833,
     "end_time": "2022-11-28T13:15:23.623351",
     "exception": false,
     "start_time": "2022-11-28T13:15:23.611518",
     "status": "completed"
    },
    "tags": []
   },
   "source": [
    "# Callbacks and ModelCheckPoints"
   ]
  },
  {
   "cell_type": "code",
   "execution_count": 28,
   "id": "62dee028",
   "metadata": {
    "execution": {
     "iopub.execute_input": "2022-11-28T13:15:23.648680Z",
     "iopub.status.busy": "2022-11-28T13:15:23.647665Z",
     "iopub.status.idle": "2022-11-28T13:15:23.653244Z",
     "shell.execute_reply": "2022-11-28T13:15:23.652357Z"
    },
    "papermill": {
     "duration": 0.020263,
     "end_time": "2022-11-28T13:15:23.655236",
     "exception": false,
     "start_time": "2022-11-28T13:15:23.634973",
     "status": "completed"
    },
    "tags": []
   },
   "outputs": [],
   "source": [
    "checkpoint=ModelCheckpoint('toxic-comment-classifier.hdf5',monitor='val_acc',verbose=1,save_best_only=True, mode='max')\n",
    "earlyStopper=EarlyStopping(monitor='val_acc',mode='max',patience=2)\n",
    "callbacks=[checkpoint,earlyStopper]"
   ]
  },
  {
   "cell_type": "markdown",
   "id": "65b9a873",
   "metadata": {
    "papermill": {
     "duration": 0.011592,
     "end_time": "2022-11-28T13:15:23.678518",
     "exception": false,
     "start_time": "2022-11-28T13:15:23.666926",
     "status": "completed"
    },
    "tags": []
   },
   "source": [
    "# Traing The Network"
   ]
  },
  {
   "cell_type": "code",
   "execution_count": 29,
   "id": "a8fee5c2",
   "metadata": {
    "execution": {
     "iopub.execute_input": "2022-11-28T13:15:23.704346Z",
     "iopub.status.busy": "2022-11-28T13:15:23.704038Z",
     "iopub.status.idle": "2022-11-28T16:52:17.839458Z",
     "shell.execute_reply": "2022-11-28T16:52:17.838569Z"
    },
    "papermill": {
     "duration": 13014.761424,
     "end_time": "2022-11-28T16:52:18.452050",
     "exception": false,
     "start_time": "2022-11-28T13:15:23.690626",
     "status": "completed"
    },
    "tags": []
   },
   "outputs": [
    {
     "name": "stderr",
     "output_type": "stream",
     "text": [
      "2022-11-28 13:15:23.825360: I tensorflow/compiler/mlir/mlir_graph_optimization_pass.cc:185] None of the MLIR Optimization Passes are enabled (registered 2)\n"
     ]
    },
    {
     "name": "stdout",
     "output_type": "stream",
     "text": [
      "Epoch 1/3\n",
      "3990/3990 [==============================] - 4363s 1s/step - loss: 0.0584 - accuracy: 0.9641 - val_loss: 0.0490 - val_accuracy: 0.9777\n",
      "Epoch 2/3\n",
      "3990/3990 [==============================] - 4319s 1s/step - loss: 0.0398 - accuracy: 0.9451 - val_loss: 0.0473 - val_accuracy: 0.9827\n",
      "Epoch 3/3\n",
      "3990/3990 [==============================] - 4333s 1s/step - loss: 0.0311 - accuracy: 0.8097 - val_loss: 0.0501 - val_accuracy: 0.7773\n"
     ]
    },
    {
     "data": {
      "text/plain": [
       "<keras.callbacks.History at 0x7f7a4679c890>"
      ]
     },
     "execution_count": 29,
     "metadata": {},
     "output_type": "execute_result"
    }
   ],
   "source": [
    "model.fit(x_train, y_train, batch_size = batch_size, epochs = epochs,validation_split = 0.2,callbacks=callbacks)"
   ]
  },
  {
   "cell_type": "markdown",
   "id": "af7f6913",
   "metadata": {
    "papermill": {
     "duration": 0.679168,
     "end_time": "2022-11-28T16:52:19.821078",
     "exception": false,
     "start_time": "2022-11-28T16:52:19.141910",
     "status": "completed"
    },
    "tags": []
   },
   "source": []
  },
  {
   "cell_type": "markdown",
   "id": "7d1ebc68",
   "metadata": {
    "papermill": {
     "duration": 0.849446,
     "end_time": "2022-11-28T16:52:21.402072",
     "exception": false,
     "start_time": "2022-11-28T16:52:20.552626",
     "status": "completed"
    },
    "tags": []
   },
   "source": [
    "# Testing The Network"
   ]
  },
  {
   "cell_type": "code",
   "execution_count": 30,
   "id": "e1eb43ee",
   "metadata": {
    "execution": {
     "iopub.execute_input": "2022-11-28T16:52:22.633955Z",
     "iopub.status.busy": "2022-11-28T16:52:22.633590Z",
     "iopub.status.idle": "2022-11-28T16:52:44.867996Z",
     "shell.execute_reply": "2022-11-28T16:52:44.866946Z"
    },
    "papermill": {
     "duration": 22.85325,
     "end_time": "2022-11-28T16:52:44.870381",
     "exception": false,
     "start_time": "2022-11-28T16:52:22.017131",
     "status": "completed"
    },
    "tags": []
   },
   "outputs": [],
   "source": [
    "y_pred=model.predict(x_test,batch_size=1024)\n",
    "submission[target_labels] = y_pred\n",
    "submission.to_csv('predictions.csv',index=False)"
   ]
  }
 ],
 "metadata": {
  "kernelspec": {
   "display_name": "Python 3",
   "language": "python",
   "name": "python3"
  },
  "language_info": {
   "codemirror_mode": {
    "name": "ipython",
    "version": 3
   },
   "file_extension": ".py",
   "mimetype": "text/x-python",
   "name": "python",
   "nbconvert_exporter": "python",
   "pygments_lexer": "ipython3",
   "version": "3.7.12"
  },
  "papermill": {
   "default_parameters": {},
   "duration": 13309.804452,
   "end_time": "2022-11-28T16:52:48.518225",
   "environment_variables": {},
   "exception": null,
   "input_path": "__notebook__.ipynb",
   "output_path": "__notebook__.ipynb",
   "parameters": {},
   "start_time": "2022-11-28T13:10:58.713773",
   "version": "2.3.4"
  }
 },
 "nbformat": 4,
 "nbformat_minor": 5
}
